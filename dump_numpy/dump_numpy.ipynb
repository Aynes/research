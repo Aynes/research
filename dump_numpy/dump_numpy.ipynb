{
 "cells": [
  {
   "cell_type": "code",
   "execution_count": 1,
   "id": "f6fc2b07",
   "metadata": {},
   "outputs": [],
   "source": [
    "import numpy as np\n",
    "import pickle\n",
    "import os"
   ]
  },
  {
   "cell_type": "code",
   "execution_count": 2,
   "id": "fa51de8b",
   "metadata": {},
   "outputs": [],
   "source": [
    "np.random.seed(97)"
   ]
  },
  {
   "cell_type": "markdown",
   "id": "282f2cfa",
   "metadata": {},
   "source": [
    "---"
   ]
  },
  {
   "cell_type": "markdown",
   "id": "8c6aaed0",
   "metadata": {},
   "source": [
    "# Summary"
   ]
  },
  {
   "cell_type": "markdown",
   "id": "a3bab2c4",
   "metadata": {},
   "source": [
    "For a vector of size `(65000, 2048)`, `float32`, the results are:\n",
    "\n",
    "|      \t|  Pickle  \t|   Numpy  \t| Memmap \t|\n",
    "|:----:\t|:--------:\t|:--------:\t|:------:\t|\n",
    "| Save \t|  ~9 sec  \t|  ~9 sec  \t| ~9 sec \t|\n",
    "| Load \t| ~3.5 sec \t| ~3.5 sec \t| ~11 ms \t|\n",
    "| Size \t|  0.66 G  \t|  0.66 G  \t|  0.5 G \t|"
   ]
  },
  {
   "cell_type": "markdown",
   "id": "6d7b3022",
   "metadata": {},
   "source": [
    "Thus, in this case, it is more optimal to use `np.memmap` to save the vector and read it from disk. "
   ]
  },
  {
   "cell_type": "markdown",
   "id": "6a6862ee",
   "metadata": {},
   "source": [
    "---"
   ]
  },
  {
   "cell_type": "markdown",
   "id": "50285824",
   "metadata": {},
   "source": [
    "# Experiments "
   ]
  },
  {
   "cell_type": "code",
   "execution_count": 3,
   "id": "fde6569b",
   "metadata": {},
   "outputs": [],
   "source": [
    "num_vectors = 65000\n",
    "dim = 2048"
   ]
  },
  {
   "cell_type": "markdown",
   "id": "56cfcd49",
   "metadata": {},
   "source": [
    "# Pickle"
   ]
  },
  {
   "cell_type": "markdown",
   "id": "30e9632e",
   "metadata": {},
   "source": [
    "## Float_64"
   ]
  },
  {
   "cell_type": "code",
   "execution_count": 4,
   "id": "af33154a",
   "metadata": {},
   "outputs": [
    {
     "name": "stdout",
     "output_type": "stream",
     "text": [
      "vector_64.pkl (65000, 2048) <class 'numpy.dtype[float64]'>\n"
     ]
    }
   ],
   "source": [
    "vectors = np.random.random((num_vectors, dim))\n",
    "path = 'vector_64.pkl'\n",
    "print(path, vectors.shape, type(vectors.dtype))"
   ]
  },
  {
   "cell_type": "markdown",
   "id": "9770e4c8",
   "metadata": {},
   "source": [
    "### Save array:"
   ]
  },
  {
   "cell_type": "code",
   "execution_count": 5,
   "id": "929f895d",
   "metadata": {},
   "outputs": [
    {
     "name": "stdout",
     "output_type": "stream",
     "text": [
      "Pickle save float_64 (vector_64.pkl):\n"
     ]
    }
   ],
   "source": [
    "print(f'Pickle save float_64 ({path}):')"
   ]
  },
  {
   "cell_type": "code",
   "execution_count": 6,
   "id": "21122479",
   "metadata": {},
   "outputs": [
    {
     "name": "stdout",
     "output_type": "stream",
     "text": [
      "30.2 s ± 9.2 s per loop (mean ± std. dev. of 7 runs, 1 loop each)\n"
     ]
    }
   ],
   "source": [
    "%%timeit\n",
    "with open(path, 'wb') as handle:\n",
    "    pickle.dump(vectors, handle, protocol=2)"
   ]
  },
  {
   "cell_type": "markdown",
   "id": "291c5baa",
   "metadata": {},
   "source": [
    "### Load array:"
   ]
  },
  {
   "cell_type": "code",
   "execution_count": 7,
   "id": "0597d01b",
   "metadata": {},
   "outputs": [
    {
     "name": "stdout",
     "output_type": "stream",
     "text": [
      "Pickle load float_64 (vector_64.pkl):\n"
     ]
    }
   ],
   "source": [
    "print(f'Pickle load float_64 ({path}):')"
   ]
  },
  {
   "cell_type": "code",
   "execution_count": 8,
   "id": "af5bc83b",
   "metadata": {},
   "outputs": [
    {
     "name": "stdout",
     "output_type": "stream",
     "text": [
      "10.4 s ± 2.73 s per loop (mean ± std. dev. of 7 runs, 1 loop each)\n"
     ]
    }
   ],
   "source": [
    "%%timeit\n",
    "vectors = np.array(pickle.load(open(path, 'rb')), np.float32)"
   ]
  },
  {
   "cell_type": "markdown",
   "id": "8c96c415",
   "metadata": {},
   "source": [
    "### Array size:"
   ]
  },
  {
   "cell_type": "code",
   "execution_count": 9,
   "id": "8a474c18",
   "metadata": {},
   "outputs": [
    {
     "name": "stdout",
     "output_type": "stream",
     "text": [
      "Pickle float_64:\n",
      "Size vector_64.pkl: 1.49 G\n"
     ]
    }
   ],
   "source": [
    "print('Pickle float_64:')\n",
    "print(f\"Size {path}: {round(os.stat(path).st_size / (1024 * 1024 * 1024), 2)} G\")"
   ]
  },
  {
   "cell_type": "markdown",
   "id": "1863a188",
   "metadata": {},
   "source": [
    "---"
   ]
  },
  {
   "cell_type": "markdown",
   "id": "7797c6f2",
   "metadata": {},
   "source": [
    "## Float_32"
   ]
  },
  {
   "cell_type": "code",
   "execution_count": 10,
   "id": "1e63796c",
   "metadata": {},
   "outputs": [
    {
     "name": "stdout",
     "output_type": "stream",
     "text": [
      "vector_32.pkl (65000, 2048) <class 'numpy.dtype[float32]'>\n"
     ]
    }
   ],
   "source": [
    "vectors = np.random.random((num_vectors, dim))\n",
    "vectors = np.float32(vectors)\n",
    "path = 'vector_32.pkl'\n",
    "print(path, vectors.shape, type(vectors.dtype))"
   ]
  },
  {
   "cell_type": "markdown",
   "id": "3a4a4ee9",
   "metadata": {},
   "source": [
    "### Save array:"
   ]
  },
  {
   "cell_type": "code",
   "execution_count": 11,
   "id": "755736fe",
   "metadata": {},
   "outputs": [
    {
     "name": "stdout",
     "output_type": "stream",
     "text": [
      "Pickle save float_32 (vector_32.pkl):\n"
     ]
    }
   ],
   "source": [
    "print(f'Pickle save float_32 ({path}):')"
   ]
  },
  {
   "cell_type": "code",
   "execution_count": 12,
   "id": "26c20638",
   "metadata": {},
   "outputs": [
    {
     "name": "stdout",
     "output_type": "stream",
     "text": [
      "8.66 s ± 861 ms per loop (mean ± std. dev. of 7 runs, 1 loop each)\n"
     ]
    }
   ],
   "source": [
    "%%timeit\n",
    "with open(path, 'wb') as handle:\n",
    "    pickle.dump(vectors, handle, protocol=2)"
   ]
  },
  {
   "cell_type": "markdown",
   "id": "4141dba7",
   "metadata": {},
   "source": [
    "### Load array:"
   ]
  },
  {
   "cell_type": "code",
   "execution_count": 13,
   "id": "4f36d524",
   "metadata": {},
   "outputs": [
    {
     "name": "stdout",
     "output_type": "stream",
     "text": [
      "Pickle load float_32 (vector_32.pkl):\n"
     ]
    }
   ],
   "source": [
    "print(f'Pickle load float_32 ({path}):')"
   ]
  },
  {
   "cell_type": "code",
   "execution_count": 14,
   "id": "95a4bbd9",
   "metadata": {},
   "outputs": [
    {
     "name": "stdout",
     "output_type": "stream",
     "text": [
      "3.35 s ± 241 ms per loop (mean ± std. dev. of 7 runs, 1 loop each)\n"
     ]
    }
   ],
   "source": [
    "%%timeit\n",
    "vectors = np.array(pickle.load(open(path, 'rb')), np.float32)"
   ]
  },
  {
   "cell_type": "markdown",
   "id": "0482ed4e",
   "metadata": {},
   "source": [
    "### Array size:"
   ]
  },
  {
   "cell_type": "code",
   "execution_count": 15,
   "id": "87c53d72",
   "metadata": {},
   "outputs": [
    {
     "name": "stdout",
     "output_type": "stream",
     "text": [
      "Pickle float_32:\n",
      "Size vector_32.pkl: 0.66 G\n"
     ]
    }
   ],
   "source": [
    "print('Pickle float_32:')\n",
    "print(f\"Size {path}: {round(os.stat(path).st_size / (1024 * 1024 * 1024), 2)} G\")"
   ]
  },
  {
   "cell_type": "markdown",
   "id": "b75834be",
   "metadata": {},
   "source": [
    "---"
   ]
  },
  {
   "cell_type": "markdown",
   "id": "9d2c9b61",
   "metadata": {},
   "source": [
    "# Numpy"
   ]
  },
  {
   "cell_type": "code",
   "execution_count": 16,
   "id": "3663a6de",
   "metadata": {},
   "outputs": [
    {
     "name": "stdout",
     "output_type": "stream",
     "text": [
      "vector_32.npy (65000, 2048) <class 'numpy.dtype[float32]'>\n"
     ]
    }
   ],
   "source": [
    "vectors = np.random.random((num_vectors, dim))\n",
    "vectors = np.float32(vectors)\n",
    "path = 'vector_32.npy'\n",
    "print(path, vectors.shape, type(vectors.dtype))"
   ]
  },
  {
   "cell_type": "markdown",
   "id": "57a48caf",
   "metadata": {},
   "source": [
    "### Save array:"
   ]
  },
  {
   "cell_type": "code",
   "execution_count": 17,
   "id": "817185f9",
   "metadata": {},
   "outputs": [
    {
     "name": "stdout",
     "output_type": "stream",
     "text": [
      "Numpy save float_32 (vector_32.npy):\n"
     ]
    }
   ],
   "source": [
    "print(f'Numpy save float_32 ({path}):')"
   ]
  },
  {
   "cell_type": "code",
   "execution_count": 18,
   "id": "82fc437b",
   "metadata": {},
   "outputs": [
    {
     "name": "stdout",
     "output_type": "stream",
     "text": [
      "9.31 s ± 1.15 s per loop (mean ± std. dev. of 7 runs, 1 loop each)\n"
     ]
    }
   ],
   "source": [
    "%%timeit\n",
    "vectors.dump(path)"
   ]
  },
  {
   "cell_type": "markdown",
   "id": "2cf5fffd",
   "metadata": {},
   "source": [
    "### Load array:"
   ]
  },
  {
   "cell_type": "code",
   "execution_count": 19,
   "id": "9cfc2d7c",
   "metadata": {},
   "outputs": [
    {
     "name": "stdout",
     "output_type": "stream",
     "text": [
      "Numpy load float_32 (vector_32.npy):\n"
     ]
    }
   ],
   "source": [
    "print(f'Numpy load float_32 ({path}):')"
   ]
  },
  {
   "cell_type": "code",
   "execution_count": 20,
   "id": "c754496f",
   "metadata": {},
   "outputs": [
    {
     "name": "stdout",
     "output_type": "stream",
     "text": [
      "4.26 s ± 847 ms per loop (mean ± std. dev. of 7 runs, 1 loop each)\n"
     ]
    }
   ],
   "source": [
    "%%timeit\n",
    "vectors = np.load(path, allow_pickle=True)"
   ]
  },
  {
   "cell_type": "markdown",
   "id": "4f98bf64",
   "metadata": {},
   "source": [
    "### Array size:"
   ]
  },
  {
   "cell_type": "code",
   "execution_count": 21,
   "id": "f295d033",
   "metadata": {},
   "outputs": [
    {
     "name": "stdout",
     "output_type": "stream",
     "text": [
      "Numpy float_32:\n",
      "Size vector_32.npy: 0.66 G\n"
     ]
    }
   ],
   "source": [
    "print('Numpy float_32:')\n",
    "print(f\"Size {path}: {round(os.stat(path).st_size / (1024 * 1024 * 1024), 2)} G\")"
   ]
  },
  {
   "cell_type": "markdown",
   "id": "f45d6514",
   "metadata": {},
   "source": [
    "---"
   ]
  },
  {
   "cell_type": "markdown",
   "id": "ac8d4c09",
   "metadata": {},
   "source": [
    "# Memmap"
   ]
  },
  {
   "cell_type": "code",
   "execution_count": 22,
   "id": "7206df18",
   "metadata": {},
   "outputs": [
    {
     "name": "stdout",
     "output_type": "stream",
     "text": [
      "vector_32.dat (65000, 2048) <class 'numpy.dtype[float32]'>\n"
     ]
    }
   ],
   "source": [
    "vectors = np.random.random((num_vectors, dim))\n",
    "vectors = np.float32(vectors)\n",
    "path = 'vector_32.dat'\n",
    "print(path, vectors.shape, type(vectors.dtype))"
   ]
  },
  {
   "cell_type": "markdown",
   "id": "309b7fbf",
   "metadata": {},
   "source": [
    "### Save array:"
   ]
  },
  {
   "cell_type": "code",
   "execution_count": 23,
   "id": "1a185498",
   "metadata": {},
   "outputs": [
    {
     "name": "stdout",
     "output_type": "stream",
     "text": [
      "Memmap save float_32 (vector_32.dat):\n"
     ]
    }
   ],
   "source": [
    "print(f'Memmap save float_32 ({path}):')"
   ]
  },
  {
   "cell_type": "code",
   "execution_count": 24,
   "id": "a6857aad",
   "metadata": {},
   "outputs": [
    {
     "name": "stdout",
     "output_type": "stream",
     "text": [
      "8.26 s ± 1.61 s per loop (mean ± std. dev. of 7 runs, 1 loop each)\n"
     ]
    }
   ],
   "source": [
    "%%timeit\n",
    "fp = np.memmap(path, dtype='float32', mode='w+', shape=(num_vectors, dim))\n",
    "fp[:] = vectors[:]\n",
    "fp.flush()"
   ]
  },
  {
   "cell_type": "markdown",
   "id": "b72bfedd",
   "metadata": {},
   "source": [
    "### Load array:"
   ]
  },
  {
   "cell_type": "code",
   "execution_count": 25,
   "id": "4ed520bd",
   "metadata": {},
   "outputs": [
    {
     "name": "stdout",
     "output_type": "stream",
     "text": [
      "Memmap load float_32 (vector_32.dat):\n"
     ]
    }
   ],
   "source": [
    "print(f'Memmap load float_32 ({path}):')"
   ]
  },
  {
   "cell_type": "code",
   "execution_count": 26,
   "id": "2cfb6972",
   "metadata": {},
   "outputs": [
    {
     "name": "stdout",
     "output_type": "stream",
     "text": [
      "The slowest run took 59.91 times longer than the fastest. This could mean that an intermediate result is being cached.\n",
      "11.1 ms ± 23.7 ms per loop (mean ± std. dev. of 7 runs, 1 loop each)\n"
     ]
    }
   ],
   "source": [
    "%%timeit\n",
    "newfp = np.memmap(path, dtype='float32', mode='r', shape=(num_vectors, dim))"
   ]
  },
  {
   "cell_type": "markdown",
   "id": "8245882e",
   "metadata": {},
   "source": [
    "### Array size:"
   ]
  },
  {
   "cell_type": "code",
   "execution_count": 27,
   "id": "a1ddd0c5",
   "metadata": {},
   "outputs": [
    {
     "name": "stdout",
     "output_type": "stream",
     "text": [
      "Memmap float_32:\n",
      "Size vector_32.dat: 0.5 G\n"
     ]
    }
   ],
   "source": [
    "print('Memmap float_32:')\n",
    "print(f\"Size {path}: {round(os.stat(path).st_size / (1024 * 1024 * 1024), 2)} G\")"
   ]
  }
 ],
 "metadata": {
  "kernelspec": {
   "display_name": "Python 3 (ipykernel)",
   "language": "python",
   "name": "python3"
  },
  "language_info": {
   "codemirror_mode": {
    "name": "ipython",
    "version": 3
   },
   "file_extension": ".py",
   "mimetype": "text/x-python",
   "name": "python",
   "nbconvert_exporter": "python",
   "pygments_lexer": "ipython3",
   "version": "3.9.6"
  }
 },
 "nbformat": 4,
 "nbformat_minor": 5
}
