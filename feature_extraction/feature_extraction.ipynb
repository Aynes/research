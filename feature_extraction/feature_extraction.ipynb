{
 "cells": [
  {
   "cell_type": "code",
   "execution_count": 1,
   "metadata": {},
   "outputs": [],
   "source": [
    "import time\n",
    "import torch\n",
    "from PIL import Image\n",
    "from pl_bolts.models.autoencoders import AE\n",
    "from pl_bolts.models.autoencoders import VAE\n",
    "from pl_bolts.models.self_supervised import SimCLR\n",
    "from pl_bolts.models.self_supervised import SwAV\n",
    "from torchvision import transforms"
   ]
  },
  {
   "cell_type": "markdown",
   "metadata": {},
   "source": [
    "# Config"
   ]
  },
  {
   "cell_type": "code",
   "execution_count": 2,
   "metadata": {},
   "outputs": [],
   "source": [
    "IMAGE_PATH = 'data/image_1.jpg'"
   ]
  },
  {
   "cell_type": "markdown",
   "metadata": {},
   "source": [
    "# Utils"
   ]
  },
  {
   "cell_type": "code",
   "execution_count": 3,
   "metadata": {},
   "outputs": [],
   "source": [
    "def image_loader(image_name):\n",
    "    loader = transforms.Compose([transforms.ToTensor()])\n",
    "    device = torch.device('cuda' if torch.cuda.is_available() else 'cpu')\n",
    "    image = Image.open(image_name).convert('RGB')\n",
    "    image = loader(image).unsqueeze(0)\n",
    "    return image.to(device, torch.float)"
   ]
  },
  {
   "cell_type": "markdown",
   "metadata": {},
   "source": [
    "---"
   ]
  },
  {
   "cell_type": "code",
   "execution_count": 4,
   "metadata": {},
   "outputs": [],
   "source": [
    "# Read image\n",
    "image = image_loader(IMAGE_PATH)"
   ]
  },
  {
   "cell_type": "markdown",
   "metadata": {},
   "source": [
    "# AE (cifar10)"
   ]
  },
  {
   "cell_type": "code",
   "execution_count": 5,
   "metadata": {},
   "outputs": [
    {
     "name": "stdout",
     "output_type": "stream",
     "text": [
      "AE: ['cifar10-resnet18']\n"
     ]
    },
    {
     "name": "stderr",
     "output_type": "stream",
     "text": [
      "Downloading: \"https://pl-bolts-weights.s3.us-east-2.amazonaws.com/ae/ae-cifar10/checkpoints/epoch%3D96.ckpt\" to /home/jovyan/.cache/torch/hub/checkpoints/epoch%3D96.ckpt\n"
     ]
    },
    {
     "data": {
      "application/vnd.jupyter.widget-view+json": {
       "model_id": "1ff1f74407194cb980eaac6030eb7034",
       "version_major": 2,
       "version_minor": 0
      },
      "text/plain": [
       "  0%|          | 0.00/228M [00:00<?, ?B/s]"
      ]
     },
     "metadata": {},
     "output_type": "display_data"
    },
    {
     "name": "stderr",
     "output_type": "stream",
     "text": [
      "/opt/conda/lib/python3.9/site-packages/torch/nn/functional.py:718: UserWarning: Named tensors and all their associated APIs are an experimental feature and subject to change. Please do not use them for anything important until they are released as stable. (Triggered internally at  /pytorch/c10/core/TensorImpl.h:1156.)\n",
      "  return torch.max_pool2d(input, kernel_size, stride, padding, dilation, ceil_mode)\n"
     ]
    },
    {
     "name": "stdout",
     "output_type": "stream",
     "text": [
      "ae_features: torch.Size([1, 512])\n",
      "ae_time: 10.897\n"
     ]
    }
   ],
   "source": [
    "print(f'AE: {AE.pretrained_weights_available()}')\n",
    "\n",
    "# init\n",
    "ae = AE(input_height=512)  # попробовать enc_type = 'resnet50'\n",
    "ae = ae.from_pretrained('cifar10-resnet18')\n",
    "ae_encoder = ae.encoder\n",
    "ae_encoder.eval()\n",
    "\n",
    "# inference\n",
    "ae_time = time.time()\n",
    "ae_features = ae_encoder(image)\n",
    "\n",
    "# result\n",
    "print(f'ae_features: {ae_features.shape}')\n",
    "print(f\"ae_time: {round((time.time() - ae_time), 3)}\")"
   ]
  },
  {
   "cell_type": "markdown",
   "metadata": {},
   "source": [
    "# VAE (cifar10)"
   ]
  },
  {
   "cell_type": "code",
   "execution_count": 6,
   "metadata": {},
   "outputs": [
    {
     "name": "stdout",
     "output_type": "stream",
     "text": [
      "VAE: ['cifar10-resnet18', 'stl10-resnet18']\n"
     ]
    },
    {
     "name": "stderr",
     "output_type": "stream",
     "text": [
      "Downloading: \"https://pl-bolts-weights.s3.us-east-2.amazonaws.com/vae/vae-cifar10/checkpoints/epoch%3D89.ckpt\" to /home/jovyan/.cache/torch/hub/checkpoints/epoch%3D89.ckpt\n"
     ]
    },
    {
     "data": {
      "application/vnd.jupyter.widget-view+json": {
       "model_id": "2a332ab4d05441f08936645d51c5e4fa",
       "version_major": 2,
       "version_minor": 0
      },
      "text/plain": [
       "  0%|          | 0.00/230M [00:00<?, ?B/s]"
      ]
     },
     "metadata": {},
     "output_type": "display_data"
    },
    {
     "name": "stdout",
     "output_type": "stream",
     "text": [
      "vae_features: torch.Size([1, 512])\n",
      "vae_time: 14.146\n"
     ]
    }
   ],
   "source": [
    "print(f'VAE: {VAE.pretrained_weights_available()}')\n",
    "\n",
    "# init\n",
    "vae = VAE(input_height=512)\n",
    "vae = vae.from_pretrained('cifar10-resnet18')  # попробовать enc_type = 'stl10-resnet18'\n",
    "vae_encoder = vae.encoder\n",
    "vae_encoder.eval()\n",
    "\n",
    "# inference\n",
    "vae_time = time.time()\n",
    "vae_features = vae_encoder(image)\n",
    "\n",
    "#result\n",
    "print(f'vae_features: {vae_features.shape}')\n",
    "print(f\"vae_time: {round((time.time() - vae_time), 3)}\")"
   ]
  },
  {
   "cell_type": "markdown",
   "metadata": {},
   "source": [
    "# SimCLR (ImageNet)"
   ]
  },
  {
   "cell_type": "code",
   "execution_count": 7,
   "metadata": {},
   "outputs": [
    {
     "name": "stderr",
     "output_type": "stream",
     "text": [
      "Downloading: \"https://pl-bolts-weights.s3.us-east-2.amazonaws.com/simclr/bolts_simclr_imagenet/simclr_imagenet.ckpt\" to /home/jovyan/.cache/torch/hub/checkpoints/simclr_imagenet.ckpt\n"
     ]
    },
    {
     "data": {
      "application/vnd.jupyter.widget-view+json": {
       "model_id": "2ff2c146fdf3451ba14748092387e2a1",
       "version_major": 2,
       "version_minor": 0
      },
      "text/plain": [
       "  0%|          | 0.00/229M [00:00<?, ?B/s]"
      ]
     },
     "metadata": {},
     "output_type": "display_data"
    },
    {
     "name": "stdout",
     "output_type": "stream",
     "text": [
      "simclr_features: torch.Size([1, 2048])\n",
      "simclr_time: 4.602\n"
     ]
    }
   ],
   "source": [
    "weight_path = 'https://pl-bolts-weights.s3.us-east-2.amazonaws.com/simclr/bolts_simclr_imagenet/simclr_imagenet.ckpt'  # IMAGENET\n",
    "\n",
    "# init\n",
    "simclr = SimCLR.load_from_checkpoint(weight_path, strict=False)\n",
    "simclr_encoder = simclr.encoder\n",
    "simclr_encoder.eval()\n",
    "\n",
    "# inference\n",
    "simclr_time = time.time()\n",
    "simclr_features = simclr_encoder(image)\n",
    "simclr_features = simclr_features[0]\n",
    "\n",
    "#result\n",
    "print(f'simclr_features: {simclr_features.shape}')\n",
    "print(f\"simclr_time: {round((time.time() - simclr_time), 3)}\")"
   ]
  },
  {
   "cell_type": "markdown",
   "metadata": {},
   "source": [
    "# SwAV (ImageNet)"
   ]
  },
  {
   "cell_type": "code",
   "execution_count": 8,
   "metadata": {},
   "outputs": [
    {
     "name": "stderr",
     "output_type": "stream",
     "text": [
      "Downloading: \"https://pl-bolts-weights.s3.us-east-2.amazonaws.com/swav/swav_imagenet/swav_imagenet.pth.tar\" to /home/jovyan/.cache/torch/hub/checkpoints/swav_imagenet.pth.tar\n"
     ]
    },
    {
     "data": {
      "application/vnd.jupyter.widget-view+json": {
       "model_id": "0cc9545dbacf470dbce94192f2ac7c69",
       "version_major": 2,
       "version_minor": 0
      },
      "text/plain": [
       "  0%|          | 0.00/322M [00:00<?, ?B/s]"
      ]
     },
     "metadata": {},
     "output_type": "display_data"
    },
    {
     "name": "stdout",
     "output_type": "stream",
     "text": [
      "swav_features: torch.Size([1, 2048])\n",
      "swav_time: 9.044\n"
     ]
    }
   ],
   "source": [
    "weight_path = 'https://pl-bolts-weights.s3.us-east-2.amazonaws.com/swav/swav_imagenet/swav_imagenet.pth.tar'  # IMAGENET\n",
    "# weight_path = 'https://pl-bolts-weights.s3.us-east-2.amazonaws.com/swav/checkpoints/swav_stl10.pth.tar' # STL-10\n",
    "\n",
    "# init\n",
    "swav = SwAV.load_from_checkpoint(weight_path, strict=True)\n",
    "swav.eval()\n",
    "\n",
    "# inference\n",
    "swav_time = time.time()\n",
    "swav_features = swav(image)\n",
    "\n",
    "#result\n",
    "print(f'swav_features: {swav_features.shape}')\n",
    "print(f\"swav_time: {round((time.time() - swav_time), 3)}\")"
   ]
  }
 ],
 "metadata": {
  "interpreter": {
   "hash": "a8565cc1cb7328ef70d5169a39aab52d1681efe5a6789c82a9bfb79e1b1b92e6"
  },
  "kernelspec": {
   "display_name": "Python 3 (ipykernel)",
   "language": "python",
   "name": "python3"
  },
  "language_info": {
   "codemirror_mode": {
    "name": "ipython",
    "version": 3
   },
   "file_extension": ".py",
   "mimetype": "text/x-python",
   "name": "python",
   "nbconvert_exporter": "python",
   "pygments_lexer": "ipython3",
   "version": "3.9.5"
  }
 },
 "nbformat": 4,
 "nbformat_minor": 2
}
