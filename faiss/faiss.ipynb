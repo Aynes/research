{
 "cells": [
  {
   "cell_type": "code",
   "execution_count": 1,
   "id": "d4a2b91f",
   "metadata": {},
   "outputs": [],
   "source": [
    "import faiss\n",
    "import numpy as np"
   ]
  },
  {
   "cell_type": "code",
   "execution_count": 2,
   "id": "f95a93d2",
   "metadata": {},
   "outputs": [],
   "source": [
    "np.random.seed(97)"
   ]
  },
  {
   "cell_type": "markdown",
   "id": "e2a835eb",
   "metadata": {},
   "source": [
    "---"
   ]
  },
  {
   "cell_type": "markdown",
   "id": "a6d604a9",
   "metadata": {},
   "source": [
    "# `IndexFlatL2` "
   ]
  },
  {
   "cell_type": "markdown",
   "id": "f6d0922f",
   "metadata": {},
   "source": [
    " `IndexFlatL2` - простой индекс, который ищет ближайшего соседа полным перебором."
   ]
  },
  {
   "cell_type": "markdown",
   "id": "ca3f4c31",
   "metadata": {},
   "source": [
    "# Как для одного вектора найти его ближайшего соседа в \"базе данных\" (индексе)?"
   ]
  },
  {
   "cell_type": "code",
   "execution_count": 3,
   "id": "b49fc3f9",
   "metadata": {},
   "outputs": [],
   "source": [
    "dim = 512  \n",
    "num_vectors = 10000 \n",
    "k = 1\n",
    "\n",
    "vectors = np.random.random((num_vectors, dim)).astype('float32')\n",
    "index = faiss.IndexFlatL2(dim)\n",
    "index.add(vectors)\n",
    "\n",
    "query_vector = np.random.random(dim).astype('float32')\n",
    "query = np.array([query_vector])\n",
    "\n",
    "distances, indices = index.search(query, k)\n",
    "\n",
    "nearest_vector = vectors[indices[0][0]]"
   ]
  },
  {
   "cell_type": "markdown",
   "id": "96de4e07",
   "metadata": {},
   "source": [
    "---"
   ]
  },
  {
   "cell_type": "code",
   "execution_count": 4,
   "id": "8de23eac",
   "metadata": {},
   "outputs": [],
   "source": [
    "dim = 512            # размерность векторов\n",
    "num_vectors = 10000  # количество векторов в индексе\n",
    "k = 1                # количество искомых соседей"
   ]
  },
  {
   "cell_type": "code",
   "execution_count": 5,
   "id": "a262fbdf",
   "metadata": {},
   "outputs": [
    {
     "name": "stdout",
     "output_type": "stream",
     "text": [
      "- vectors.shape: (10000, 512)\n"
     ]
    }
   ],
   "source": [
    "# Создадим \"базу данных\" (индекс) из случайных векторов:\n",
    "\n",
    "vectors = np.random.random((num_vectors, dim)).astype('float32')\n",
    "index = faiss.IndexFlatL2(dim)\n",
    "index.add(vectors)\n",
    "\n",
    "print(f'- vectors.shape: {vectors.shape}')"
   ]
  },
  {
   "cell_type": "code",
   "execution_count": 6,
   "id": "9fdac99f",
   "metadata": {},
   "outputs": [
    {
     "name": "stdout",
     "output_type": "stream",
     "text": [
      "- query_vector.shape: (512,)\n"
     ]
    }
   ],
   "source": [
    "# Создадим случайный вектор, для которого будем искать ближайшего соседа:\n",
    "\n",
    "query_vector = np.random.random(dim).astype('float32')\n",
    "\n",
    "print(f'- query_vector.shape: {query_vector.shape}')"
   ]
  },
  {
   "cell_type": "code",
   "execution_count": 7,
   "id": "56b2e5f6",
   "metadata": {},
   "outputs": [
    {
     "name": "stdout",
     "output_type": "stream",
     "text": [
      "- query.shape: (1, 512)\n"
     ]
    }
   ],
   "source": [
    "# Создадим запрос в \"базу данных\":\n",
    "\n",
    "query = np.array([query_vector])\n",
    "\n",
    "print(f'- query.shape: {query.shape}')"
   ]
  },
  {
   "cell_type": "code",
   "execution_count": 8,
   "id": "48df5cd0",
   "metadata": {},
   "outputs": [
    {
     "name": "stdout",
     "output_type": "stream",
     "text": [
      "- indexes: [[8273]]\n",
      "- distances: [[70.1127]]\n"
     ]
    }
   ],
   "source": [
    "# Найдем индекс ближайшего соседа в нашей \"базе данных\" (индексе) и расстояние от него до искомого вектора:\n",
    "\n",
    "distances, indices = index.search(query, k)\n",
    "\n",
    "print(f'- indexes: {indices}')\n",
    "print(f'- distances: {distances}')"
   ]
  },
  {
   "cell_type": "code",
   "execution_count": 9,
   "id": "e6448ded",
   "metadata": {},
   "outputs": [
    {
     "name": "stdout",
     "output_type": "stream",
     "text": [
      "- nearest_vector.shape: (512,)\n"
     ]
    }
   ],
   "source": [
    "# Теперь, зная индекс ближайшего соседа мы можем сохранить ближайший вектор в отдельную переменную:\n",
    "\n",
    "nearest_vector = vectors[indices[0][0]]\n",
    "\n",
    "print(f'- nearest_vector.shape: {nearest_vector.shape}')"
   ]
  },
  {
   "cell_type": "markdown",
   "id": "ec107410",
   "metadata": {},
   "source": [
    "---"
   ]
  },
  {
   "cell_type": "markdown",
   "id": "a6e62690",
   "metadata": {},
   "source": [
    "---"
   ]
  },
  {
   "cell_type": "markdown",
   "id": "bd14814c",
   "metadata": {},
   "source": [
    "# Как для нескольких векторов найти их ближайший соседей в \"базе данных\" (индексе)?"
   ]
  },
  {
   "cell_type": "code",
   "execution_count": 10,
   "id": "95622bb2",
   "metadata": {},
   "outputs": [],
   "source": [
    "dim = 512  \n",
    "num_vectors = 10000\n",
    "num_query = 5\n",
    "k = 1\n",
    "\n",
    "vectors = np.random.random((num_vectors, dim)).astype('float32')\n",
    "index = faiss.IndexFlatL2(dim)\n",
    "index.add(vectors)\n",
    "\n",
    "query = np.random.random([num_query,dim]).astype('float32')\n",
    "\n",
    "distances, indices = index.search(query, k)"
   ]
  },
  {
   "cell_type": "markdown",
   "id": "0a3be8f2",
   "metadata": {},
   "source": [
    "---"
   ]
  },
  {
   "cell_type": "code",
   "execution_count": 11,
   "id": "453d47cb",
   "metadata": {},
   "outputs": [],
   "source": [
    "dim = 512            # рассмотрим произвольные векторы размерности 512\n",
    "num_vectors = 10000  # количество векторов в индексе\n",
    "num_query = 5        # количество векторов в выборке для поиска\n",
    "k = 1                # количество искомых соседей"
   ]
  },
  {
   "cell_type": "code",
   "execution_count": 12,
   "id": "04433d80",
   "metadata": {},
   "outputs": [
    {
     "name": "stdout",
     "output_type": "stream",
     "text": [
      "- vectors.shape: (10000, 512)\n"
     ]
    }
   ],
   "source": [
    "# Создадим \"базу данных\" (индекс) из случайных векторов:\n",
    "\n",
    "vectors = np.random.random((num_vectors, dim)).astype('float32')\n",
    "index = faiss.IndexFlatL2(dim)\n",
    "index.add(vectors)\n",
    "\n",
    "print(f'- vectors.shape: {vectors.shape}')"
   ]
  },
  {
   "cell_type": "code",
   "execution_count": 13,
   "id": "ba358c49",
   "metadata": {},
   "outputs": [
    {
     "name": "stdout",
     "output_type": "stream",
     "text": [
      "- query.shape: (5, 512)\n"
     ]
    }
   ],
   "source": [
    "# Создадим запрос в \"базу данных\":\n",
    "\n",
    "query = np.random.random([num_query, dim]).astype('float32')\n",
    "print(f'- query.shape: {query.shape}')"
   ]
  },
  {
   "cell_type": "code",
   "execution_count": 14,
   "id": "c0a341ce",
   "metadata": {},
   "outputs": [
    {
     "name": "stdout",
     "output_type": "stream",
     "text": [
      "indexes: \t distances:\n",
      "5240 \t \t 70.99066925048828\n",
      "6815 \t \t 71.5201416015625\n",
      "8791 \t \t 67.58242797851562\n",
      "4948 \t \t 68.54409790039062\n",
      "2386 \t \t 68.1894760131836\n"
     ]
    }
   ],
   "source": [
    "# Найдем индексы ближайших соседей в нашей \"базе данных\" (индексе) и расстояние от них до искомых векторов:\n",
    "\n",
    "distances, indices = index.search(query, k)\n",
    "\n",
    "print('indexes: \\t distances:')\n",
    "for  i, d in zip (indices, distances):\n",
    "    print(f'{i[0]} \\t \\t {(d[0])}')"
   ]
  },
  {
   "cell_type": "markdown",
   "id": "92343656",
   "metadata": {},
   "source": [
    "---"
   ]
  },
  {
   "cell_type": "markdown",
   "id": "0bd3e32e",
   "metadata": {},
   "source": [
    "### Проверим что для векторов из \"базы данных\" (индекса) ближашими будут они сами."
   ]
  },
  {
   "cell_type": "code",
   "execution_count": 15,
   "id": "21cb0c7d",
   "metadata": {},
   "outputs": [
    {
     "name": "stdout",
     "output_type": "stream",
     "text": [
      "query_indexes: [ 728 4702 7027 2194 9222]\n"
     ]
    }
   ],
   "source": [
    "# Возьмем случайные индексы элементов из \"бызы данных\" (индекса):\n",
    "\n",
    "query_indexes = np.random.choice(num_vectors, num_query)\n",
    "                                \n",
    "print(f'query_indexes: {query_indexes}')"
   ]
  },
  {
   "cell_type": "code",
   "execution_count": 16,
   "id": "05460df5",
   "metadata": {},
   "outputs": [],
   "source": [
    "# Возьмем вектора соответствующие выбранным индексам:\n",
    "\n",
    "query = vectors[query_indexes]"
   ]
  },
  {
   "cell_type": "code",
   "execution_count": 17,
   "id": "98a9a321",
   "metadata": {},
   "outputs": [
    {
     "name": "stdout",
     "output_type": "stream",
     "text": [
      "query_indexes: \t indexes: \t distances:\n",
      "728 \t \t 728 \t \t 0.0\n",
      "4702 \t \t 4702 \t \t 0.0\n",
      "7027 \t \t 7027 \t \t 0.0\n",
      "2194 \t \t 2194 \t \t 0.0\n",
      "9222 \t \t 9222 \t \t 0.0\n"
     ]
    }
   ],
   "source": [
    "# Найдем ближайших соседей для векторов которые уже есть в \"базе данных\" (индексе):\n",
    "\n",
    "distances, indices = index.search(query, k)\n",
    "\n",
    "print('query_indexes: \\t indexes: \\t distances:')\n",
    "for  qi, i, d in zip (query_indexes, indices, distances):\n",
    "    print(f'{qi} \\t \\t {i[0]} \\t \\t {d[0]}')"
   ]
  },
  {
   "cell_type": "markdown",
   "id": "a343cf56",
   "metadata": {},
   "source": [
    "---"
   ]
  },
  {
   "cell_type": "markdown",
   "id": "ba595b86",
   "metadata": {},
   "source": [
    "---"
   ]
  },
  {
   "cell_type": "markdown",
   "id": "c6b72b00",
   "metadata": {},
   "source": [
    "# Как построить индекс если вектора не помещаются в память?"
   ]
  },
  {
   "cell_type": "code",
   "execution_count": 18,
   "id": "100446e3",
   "metadata": {},
   "outputs": [],
   "source": [
    "# Обычный способ, мы будем его использовать для проверки результата:\n",
    "\n",
    "dim = 512\n",
    "num_vectors = 10000\n",
    "num_query = 3\n",
    "k = 10\n",
    "\n",
    "vectors = np.random.random((num_vectors, dim)).astype(np.float32)\n",
    "index = faiss.IndexFlatL2(dim)\n",
    "index.add(vectors)\n",
    "\n",
    "query = np.random.random((num_query, dim)).astype(np.float32)\n",
    "\n",
    "dists, ids = index.search(query, k)"
   ]
  },
  {
   "cell_type": "code",
   "execution_count": 19,
   "id": "221c92ca",
   "metadata": {},
   "outputs": [],
   "source": [
    "# Разделение \"базы данных\" (индекса) на несколько частей,\n",
    "# поиск ближайших соседей в каждой части и объединение результатов:\n",
    "\n",
    "index_1 = faiss.IndexFlatL2(dim)\n",
    "index_1.add(vectors[:5000])   \n",
    "\n",
    "index_2 = faiss.IndexFlatL2(dim)\n",
    "index_2.add(vectors[5000:])   \n",
    "\n",
    "dists_1, ids_1 = index_1.search(query, k)\n",
    "dists_2, ids_2 = index_2.search(query, k)\n",
    "\n",
    "result_heap = faiss.ResultHeap(num_query, k)\n",
    "\n",
    "result_heap.add_result(D=dists_1, I=ids_1)\n",
    "result_heap.add_result(D=dists_2, I=ids_2 + 5000)  \n",
    "\n",
    "result_heap.finalize()\n",
    "\n",
    "new_dists = result_heap.D\n",
    "new_ids = result_heap.I\n",
    "assert np.array_equal(dists, new_dists)\n",
    "assert np.array_equal(ids, new_ids)"
   ]
  },
  {
   "cell_type": "markdown",
   "id": "bf658085",
   "metadata": {},
   "source": [
    "---"
   ]
  },
  {
   "cell_type": "code",
   "execution_count": 20,
   "id": "fae3bf22",
   "metadata": {},
   "outputs": [],
   "source": [
    "# Строим индекс для первой половины данных:\n",
    "\n",
    "index_1 = faiss.IndexFlatL2(dim)\n",
    "index_1.add(vectors[:5000])   \n",
    "\n",
    "# Строим индекс для второй половины данных:\n",
    "\n",
    "index_2 = faiss.IndexFlatL2(dim)\n",
    "index_2.add(vectors[5000:])  "
   ]
  },
  {
   "cell_type": "code",
   "execution_count": 21,
   "id": "c9a0cb1f",
   "metadata": {},
   "outputs": [],
   "source": [
    "# Ищем ближайших соседей в каждой половине:\n",
    "\n",
    "dists_1, ids_1 = index_1.search(query, k)\n",
    "dists_2, ids_2 = index_2.search(query, k)"
   ]
  },
  {
   "cell_type": "code",
   "execution_count": 22,
   "id": "8becfb4a",
   "metadata": {},
   "outputs": [],
   "source": [
    "# Объединяем результаты:\n",
    "\n",
    "result_heap = faiss.ResultHeap(num_query, k)\n",
    "\n",
    "result_heap.add_result(D=dists_1, I=ids_1)\n",
    "result_heap.add_result(D=dists_2, I=ids_2 + 5000)  \n",
    "result_heap.finalize()\n",
    "\n",
    "# Сохраняем результаты в отдельные переменные:\n",
    "\n",
    "dists = result_heap.D\n",
    "ids = result_heap.I"
   ]
  }
 ],
 "metadata": {
  "kernelspec": {
   "display_name": "Python 3 (ipykernel)",
   "language": "python",
   "name": "python3"
  },
  "language_info": {
   "codemirror_mode": {
    "name": "ipython",
    "version": 3
   },
   "file_extension": ".py",
   "mimetype": "text/x-python",
   "name": "python",
   "nbconvert_exporter": "python",
   "pygments_lexer": "ipython3",
   "version": "3.9.5"
  }
 },
 "nbformat": 4,
 "nbformat_minor": 5
}
